{
 "cells": [
  {
   "cell_type": "code",
   "execution_count": 12,
   "id": "692730ea-5f85-498f-881e-3b95d8f702d3",
   "metadata": {},
   "outputs": [],
   "source": [
    "from pathlib import Path\n",
    "from abc import ABC, abstractmethod\n",
    "from typing import List\n",
    "import os\n",
    "from langchain.text_splitter import RecursiveCharacterTextSplitter\n",
    "from langchain.docstore.document import Document\n",
    "\n",
    "PROJECT_ROOT = Path(\"/home/troligen/development/hobby/ML/MuRAG/\")\n",
    "\n",
    "\n",
    "class BaseDocumentProcessor(ABC):\n",
    "    def __init__(self, chunk_size: int = 1000, chunk_overlap: int = 200):\n",
    "        self.text_splitter = RecursiveCharacterTextSplitter(\n",
    "            chunk_size=chunk_size,\n",
    "            chunk_overlap=chunk_overlap\n",
    "        )\n",
    "    \n",
    "    @abstractmethod\n",
    "    def load_document(self, file_path: Path) -> str:\n",
    "        pass\n",
    "    \n",
    "    def process_document(self, file_path: Path) -> List[Document]:\n",
    "        text = self.load_document(file_path)\n",
    "        chunks = self.text_splitter.split_text(text)\n",
    "        return [Document(page_content=chunk, metadata={\"source\": str(file_path)}) for chunk in chunks]\n",
    "\n",
    "class TextDocumentProcessor(BaseDocumentProcessor):\n",
    "    def load_document(self, file_path: Path) -> str:\n",
    "        with file_path.open('r', encoding='utf-8') as file:\n",
    "            return file.read()\n",
    "\n",
    "class PDFDocumentProcessor(BaseDocumentProcessor):\n",
    "    def load_document(self, file_path: Path) -> str:\n",
    "        from pypdf import PdfReader\n",
    "        \n",
    "        reader = PdfReader(str(file_path))\n",
    "        return \" \".join(page.extract_text() for page in reader.pages)\n",
    "\n",
    "class DocxDocumentProcessor(BaseDocumentProcessor):\n",
    "    def load_document(self, file_path: Path) -> str:\n",
    "        import docx2txt\n",
    "        return docx2txt.process(str(file_path))\n",
    "\n",
    "class DocumentProcessorFactory:\n",
    "    @staticmethod\n",
    "    def get_processor(file_path: Path) -> BaseDocumentProcessor:\n",
    "        if file_path.suffix.lower() == '.pdf':\n",
    "            return PDFDocumentProcessor()\n",
    "        elif file_path.suffix.lower() == '.docx':\n",
    "            return DocxDocumentProcessor()\n",
    "        else:\n",
    "            return TextDocumentProcessor()\n",
    "\n",
    "def process_document(relative_path: str) -> List[Document]:\n",
    "    file_path = PROJECT_ROOT / relative_path\n",
    "    processor = DocumentProcessorFactory.get_processor(file_path)\n",
    "    return processor.process_document(file_path)\n",
    "\n"
   ]
  },
  {
   "cell_type": "code",
   "execution_count": 13,
   "id": "ef74f977-932b-4643-8b97-15410bc950ae",
   "metadata": {},
   "outputs": [
    {
     "name": "stdout",
     "output_type": "stream",
     "text": [
      "Number of chunks: 90\n",
      "First chunk: Climate Risk Management 40 (2023) 100492\n",
      "Available online 25 February 2023\n",
      "2212-0963/© 2023 The Auth...\n"
     ]
    }
   ],
   "source": [
    "test_file = \"test_data/science_pdf/1-s2.0-S2212096323000189-main.pdf\"  \n",
    "chunks = process_document(test_file)\n",
    "print(f\"Number of chunks: {len(chunks)}\")\n",
    "if chunks:\n",
    "    print(f\"First chunk: {chunks[0].page_content[:100]}...\")  # Print first 100 characters of the first chunk\n",
    "else:\n",
    "    print(\"No chunks were generated. Check if the file exists and is readable.\")"
   ]
  }
 ],
 "metadata": {
  "kernelspec": {
   "display_name": "Python 3 (ipykernel)",
   "language": "python",
   "name": "python3"
  },
  "language_info": {
   "codemirror_mode": {
    "name": "ipython",
    "version": 3
   },
   "file_extension": ".py",
   "mimetype": "text/x-python",
   "name": "python",
   "nbconvert_exporter": "python",
   "pygments_lexer": "ipython3",
   "version": "3.12.7"
  }
 },
 "nbformat": 4,
 "nbformat_minor": 5
}

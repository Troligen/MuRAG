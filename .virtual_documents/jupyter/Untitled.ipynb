from abc import ABC, abstractmethod
from typing import List, Dict
import os
from langchain.text_splitter import RecursiveCharacterTextSplitter
from langchain.docstore.document import Document


class BaseDocumentProcessor(ABC):
    def __init__(self, chunk_size: int = 1000, chunk_overlap: int = 200):
        self.text_splitter = RecursiveCharacterTextSplitter(
            chunk_size=chunk_size,
            chunk_overlap=chunk_overlap
        )

    @abstractmethod
    def load_document(self, file_path: str) -> str:
        pass

    def process_document(self, file_path: str) -> List[Document]:
        text = self.load_document(file_path)
        chunks = self.text_splitter.split_text(text)
        return [Document(page_content=chunk, metadata={"source": file_path}) for chunk in chunks]


class TextDocumentProcessor(BaseDocumentProcessor):
    def load_document(self, file_path: str) -> str:
        with open(file_path, 'r', encoding='utf-8') as file:
            return file.read()


class PDFDocumentProcessor(BaseDocumentProcessor):
    def load_document(self, file_path: str) -> str:
        from pypdf import PdfReader

        reader = PdfReader(file_path)
        return " ".join(page.extract_text() for page in reader.pages)


class DocxDocumentProcessor(BaseDocumentProcessor):
    def load_document(self, file_path: str) -> str:
        import docx2txt
        return docx2txt.process(file_path)


class DocumentProcessorFactory:
    @staticmethod
    def get_processor(file_path: str) -> BaseDocumentProcessor:
        _, extension = os.path.splitext(file_path)
        if extension.lower() == '.pdf':
            return PDFDocumentProcessor()
        elif extension.lower() == '.docx':
            return DocxDocumentProcessor()
        else:
            return TextDocumentProcessor()


def process_document(file_path: str) -> List[Document]:
    processor = DocumentProcessorFactory.get_processor(file_path)
    return processor.process_document(file_path)


# Example usage
file_path = "test_data/"  # or .txt or .docx
chunks = process_document(file_path)

print(f"Number of chunks: {len(chunks)}")
print(f"First chunk: {chunks[0].page_content[:100]}...")  # Print first 100 characters of the first chunk
